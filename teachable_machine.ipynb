{
 "cells": [
  {
   "cell_type": "code",
   "execution_count": null,
   "id": "naked-springer",
   "metadata": {},
   "outputs": [],
   "source": [
    "######################\n",
    "# Initializing codes #\n",
    "######################\n",
    "\n",
    "print('프로그램 준비 중 입니다. 다른 코드를 실행하지 마세요.')\n",
    "\n",
    "# Import packages\n",
    "from io import BytesIO\n",
    "from picamera import PiCamera\n",
    "from time import sleep\n",
    "from PIL import Image, ImageOps\n",
    "import tensorflow.keras\n",
    "import numpy as np\n",
    "\n",
    "# Make label dict\n",
    "label = {}\n",
    "with open('labels.txt', 'r') as label_file:\n",
    "    for line in label_file:\n",
    "        symbol, name = line.split(' ')\n",
    "        label[symbol] = name.rstrip()\n",
    "print(label)\n",
    "\n",
    "# Init Pi camera\n",
    "camera = PiCamera()\n",
    "camera.rotation = 180\n",
    "\n",
    "# Load keras model\n",
    "np.set_printoptions(suppress=True)\n",
    "model = tensorflow.keras.models.load_model('keras_model.h5')\n",
    "data = np.ndarray(shape=(1, 224, 224, 3), dtype=np.float32)\n",
    "size = (224, 224)\n",
    "\n",
    "print('준비가 끝났습니다. 사진 파일 불러오기나 카메라로 사진찍기 중 하나를 실행하세요.')"
   ]
  },
  {
   "cell_type": "code",
   "execution_count": null,
   "id": "nervous-evidence",
   "metadata": {},
   "outputs": [],
   "source": [
    "# 사진 파일 불러오기\n",
    "# Read image file\n",
    "image = Image.open('test_photo.jpg')"
   ]
  },
  {
   "cell_type": "code",
   "execution_count": null,
   "id": "elementary-fleece",
   "metadata": {},
   "outputs": [],
   "source": [
    "# 카메라로 사진 찍기\n",
    "# Capture from Pi camera\n",
    "camera.start_preview()\n",
    "stream = BytesIO()\n",
    "sleep(0.25)\n",
    "camera.capture(stream, 'jpeg')\n",
    "stream.seek(0)\n",
    "image = Image.open(stream)"
   ]
  },
  {
   "cell_type": "code",
   "execution_count": null,
   "id": "referenced-juvenile",
   "metadata": {},
   "outputs": [],
   "source": [
    "# 불러온 사진 판별하기\n",
    "image = ImageOps.fit(image, size, Image.ANTIALIAS)\n",
    "\n",
    "#turn the image into a numpy array\n",
    "image_array = np.asarray(image)\n",
    "\n",
    "# display the resized image\n",
    "image.show()\n",
    "\n",
    "# Normalize the image\n",
    "normalized_image_array = (image_array.astype(np.float32) / 127.0) - 1\n",
    "\n",
    "# Load the image into the array\n",
    "data[0] = normalized_image_array\n",
    "\n",
    "# run the inference\n",
    "prediction = model.predict(data)\n",
    "print(prediction)"
   ]
  },
  {
   "cell_type": "code",
   "execution_count": null,
   "id": "monthly-simple",
   "metadata": {},
   "outputs": [],
   "source": [
    "# 결과를 출력하기\n",
    "# print readable prediction\n",
    "def print_prediction(label, prediction):\n",
    "    for index, prob in enumerate(prediction[0]):\n",
    "        print(label[str(index)], '%.2f' % (prob*100) + '%')\n",
    "        \n",
    "# return highest predicted label name\n",
    "def get_predicted_label(label, prediction):\n",
    "    probs = list(prediction[0])\n",
    "    highest_index = probs.index(max(probs))\n",
    "    return label[str(highest_index)]\n",
    "        \n",
    "print_prediction(label, prediction)\n",
    "print(get_predicted_label(label, prediction))"
   ]
  },
  {
   "cell_type": "code",
   "execution_count": null,
   "id": "applicable-curtis",
   "metadata": {},
   "outputs": [],
   "source": []
  }
 ],
 "metadata": {
  "kernelspec": {
   "display_name": "Python 3",
   "language": "python",
   "name": "python3"
  },
  "language_info": {
   "codemirror_mode": {
    "name": "ipython",
    "version": 3
   },
   "file_extension": ".py",
   "mimetype": "text/x-python",
   "name": "python",
   "nbconvert_exporter": "python",
   "pygments_lexer": "ipython3",
   "version": "3.7.3"
  }
 },
 "nbformat": 4,
 "nbformat_minor": 5
}
