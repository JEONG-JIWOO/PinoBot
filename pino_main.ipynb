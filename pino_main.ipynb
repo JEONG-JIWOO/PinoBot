{
 "cells": [
  {
   "cell_type": "markdown",
   "id": "continent-margin",
   "metadata": {},
   "source": [
    "# 피노봇 메인코드 \n",
    "\n",
    "피노봇을 실행하기위한 메인 주피터 노트북 코드입니다. "
   ]
  },
  {
   "cell_type": "markdown",
   "id": "based-practice",
   "metadata": {},
   "source": [
    "## 1. 피노봇 부팅 \n",
    "\n",
    "피노봇을 부팅하고 다이얼로그플로우 서버에 연결하는 코드입니다. \n",
    "\n",
    "부팅이 완료되면 OLED 에 \"대기중\" 메세지가 표시됩니다. "
   ]
  },
  {
   "cell_type": "code",
   "execution_count": 1,
   "id": "independent-problem",
   "metadata": {},
   "outputs": [
    {
     "name": "stderr",
     "output_type": "stream",
     "text": [
      "[INFO] (2021-03-24 12:26:55,637 : pinobot.py:106) > [PinoBot] Start Boot\n",
      "[INFO] (2021-03-24 12:26:55,639 : pino_boot_loader.py:53) > pino_boot_loader.py: start boot\n",
      "[INFO] (2021-03-24 12:26:55,647 : pino_boot_loader.py:143) > pino_boot_loader.py: config.. Complete\n"
     ]
    },
    {
     "name": "stdout",
     "output_type": "stream",
     "text": [
      "     @@@@@@@@@@@@@@@@@@@@@@@@@@@@@@@@@@@@@@@@@@@@@@@@@@@@@@@@@@@@@@@      \n",
      "     @@@@@@@@@@@@@@@@@@@@@@@@@@@@@@@@@@@@@@@@@@@@@@@@@@@@@@@@@@@@@@@      \n",
      "     @@@@@@@@@@@@@@@@@@@@@@@@@@@@@@@@@@@@@@@@@@@@@@@@@@@@@@@@@@@@@@@      \n",
      "     @@@@@@@@@@@@@@@@@@@@@@@@@@@@@@--@@@@@@@@@@@@@@@@@@@@@@@@@@@@@@@      \n",
      "     @@@@@@@@@@@@@@@@@@@@@@@@@@@@ ---:@@@@@@@@@@@@@@@@@@@@@@@@@@@@@@      \n",
      "     @@@@@@@@@@@@@@@@@@@@@@@@@@@----~::@@@@@@@@@@@@@@@@@@@@@@@@@@@@@      \n",
      "     @@@@@@@@@@@@@@@@@@@@@@@@@@,--,,-~:@@@@@@@@@@@@@@@@@@@@@@@@@@@@@      \n",
      "     @@@@@@@@@@@@@@@@@@@@@@@@@--,,,.,~:@@@@@::---@@@@@@@@@@@@@@@@@@@      \n",
      "     @@@@@@@@@@@@@@@@@@@@@@@@@--,...,~:@@@@:~~---@@@@@@@@@@@@@@@@@@@      \n",
      "     @@@@@@@@@@@@@@@@@@@@@@@@----,,,,~:@@@:~-----@@@@@@@@@@@@@@@@@@@      \n",
      "     @@@@@@@@@@@@@@@@@@@@@@@------,,,~:@@@:~,,,---@@@@@@@@@@@@@@@@@@      \n",
      "     @@@@@@@@@@@@@@@@@@@@@@@-----,---~~@@:~-.,,,--@@@@@@@@@@@@@@@@@@      \n",
      "     @@@@@@@@@@@@@@@@@@@@@@----,...,,,,..~-~-,,,--@@@@@@@@@@@@@@@@@@      \n",
      "     @@@@@@@@@@@@@@@@@@@@@@---,...........--~,,---@@@@@@@@@@@@@@@@@@      \n",
      "     @@@@@@@@@@@@@@@@  ....---.............-~-,---@@@@@@@@@@@@@@@@@@      \n",
      "     @@@@@@@@@@@@@@@@,,....~-,.....~!~.......,----@@@@@@@@@@@@@@@@@@      \n",
      "     @@@@@@@@@@@@@@@@--,,,.@-......:$:.~-... ..--- @@@@@@@@@@@@@@@@@      \n",
      "     @@@@@@@@@@@@@@@..---,,:@.......,..;~......---@@@@@@@@@@@@@@@@@@      \n",
      "     @@@@@@@@@@@@@@-,.@@--~--.   . ,---,.......---@@@@@@@@@@@@@@@@@@      \n",
      "     @@@@@@@@@@@@@@--. ::~----.   .,---,......,---@@@@@@@@@@@@@@@@@@      \n",
      "     @@@@@@@@@@@@@@--...,~,..--....,---,......--- @@@@@@@@@@@@@@@@@@      \n",
      "     @@@@@@@@@@@@@@@-----,...,. .  ,---,..,--...@@@@@@@@@@@@@@@@@@@@      \n",
      "     @@@@@@@@@@@@@@@@@@:~----,..-.........,..@,. @@@@@@@@@@@@@@@@@@@      \n",
      "     @@@@@@@@@@@@@@@@@@@@---,...,-,.... ..-.,:-..,@@@@@@@@@@@@@@@@@@      \n",
      "     @@@@@@@@@@@@@@@@@@@@@--,...,,.....,-~~,~:-...@@@@@@@@@@@@@@@@@@      \n",
      "     @@@@@@@@@@@@@@@@@@@@@@@@...,. ,-. .,,~:::-...@@@@@@@@@@@@@@@@@@      \n",
      "     @@@@@@@@@@@@@@@@@@@@@@@@@@-.  :$:  .,,~---...@@@@@@@@@@@@@@@@@@      \n",
      "     @@@@@@@@@@@@@@@@@@@@@@@@@@@   ~!~  ...,----@@@@@@@@@@@@@@@@@@@@      \n",
      "     @@@@@@@@@@@@@@@@@@@@@@@@@@@..     ....,----@@@@@@@@@@@@@@@@@@@@      \n",
      "     @@@@@@@@@@@@@@@@@@@@@@@@@@;-, ,~, ,,..,---@@@@@@@@@@@@@@@@@@@@@      \n",
      "     @@@@@@@@@@@@@@@@@@@@@@@@@@--, :$: ,-..,--@@@@@@@@@@@@@@@@@@@@@@      \n",
      "     @@@@@@@@@@@@@@@@@@@@@@@@@@--,.-:-.,--@@@@@@@@@@@@@@@@@@@@@@@@@@      \n",
      "     @@@@@@@@@@@@@@@@@@@@@@@@@,,--,...,,,,,@@@@@@@@@@@@@@@@@@@@@@@@@      \n",
      "     @@@@@@@@@@@@@@@@@@@@@@@@@,,---,,,,,,,,@@@@@@@@@@@@@@@@@@@@@@@@@      \n",
      "     @@@@@@@@@@@@@@@@@@@@@@@@@,,,--,,,,,,,,@@@@@@@@@@@@@@@@@@@@@@@@@      \n",
      "     @@@@@@@@@@@@@@@@@@@@@@@@...............@@@@@@@@@@@@@@@@@@@@@@@@      \n",
      "     @@@@@@@@@@@@@@@@@@@@@@@@...         ...@@@@@@@@@@@@@@@@@@@@@@@@      \n",
      "     @@@@@@@@@@@@@@@@@@@@@@@@...         ...@@@@@@@@@@@@@@@@@@@@@@@@      \n",
      "     @@@@@@@@@@@@@@@@@@@@@@@@ ..         ...@@@@@@@@@@@@@@@@@@@@@@@@      \n",
      "     @@@@@@@@@@@@@@@@@@@@@@@@@@@@@@@@@@@@@@@@@@@@@@@@@@@@@@@@@@@@@@@      \n",
      "     @@@@@@@@@@@@@@@@@@@@@@@@@@@@@@@@@@@@@@@@@@@@@@@@@@@@@@@@@@@@@@@      \n",
      "     @@@@@@@@@@@@@@@@@@@@@@@@@@@@@@@@@@@@@@@@@@@@@@@@@@@@@@@@@@@@@@@      \n",
      "   _   _        _  _         ______  _               ______         _     \n",
      "  | | | |      | || |        | ___ \\(_)              | ___ \\       | |    \n",
      "  | |_| |  ___ | || |  ___   | |_/ / _  _ __    ___  | |_/ /  ___  | |_   \n",
      "  |  _  | / _ \\| || | / _ \\  |  __/ | || '_ \\  / _ \\ | ___ \\ / _ \\ | __|  \n",
      "  | | | ||  __/| || || (_) | | |    | || | | || (_) || |_/ /| (_) || |_   \n",
      "  \\_| |_/ \\___||_||_| \\___/  \\_|    |_||_| |_| \\___/ \\____/  \\___/  \\__|  \n",
      "\n",
      "==========================================================================\n",
      "  Launch PinoBot Manager...\n",
      "==========================================================================\n",
      "\n"
     ]
    },
    {
     "name": "stderr",
     "output_type": "stream",
     "text": [
      "[INFO] (2021-03-24 12:26:55,969 : v1.py:147) > hardware state : {'I2C': True, 'OLED': True, 'SERVO': True, 'RGB_LED': True, 'SENSOR': True, 'UART': True}\n",
      "[INFO] (2021-03-24 12:27:01,273 : pino_boot_loader.py:148) > pino_boot_loader.py: hardware.. Complete\n",
      "[INFO] (2021-03-24 12:27:01,942 : pino_boot_loader.py:354) > pino_boot_loader.py: internet not connected!\n",
      "[INFO] (2021-03-24 12:27:01,953 : pino_boot_loader.py:159) > pino_boot_loader.py: internet.. Complete\n",
      "[INFO] (2021-03-24 12:27:05,408 : pino_dialogflow.py:167) > pino_dialogflow.py: sound card index is : 2\n",
      "[INFO] (2021-03-24 12:27:05,552 : pino_dialogflow.py:359) > pino_dialogflow.py: Start Open Session\n",
      "[INFO] (2021-03-24 12:27:05,563 : pino_dialogflow.py:374) > pino_dialogflow.py: Open New Session, SID [squarebot01-yauqxoWed Mar 24 12:27:05 2021]\n",
      "[INFO] (2021-03-24 12:27:06,780 : pinobot.py:113) > [PinoBot] Boot Done..\n"
     ]
    }
   ],
   "source": [
    "from modules import pinobot\n",
    "import time\n",
    "\n",
    "if __name__ == \"__main__\":\n",
    "    bot  = pinobot.PinoBot()\n",
    "    bot.hardware.write(text=\"대기중..\")"
   ]
  },
  {
   "cell_type": "markdown",
   "id": "foreign-recommendation",
   "metadata": {},
   "source": [
    "⚠️ 에러가 발생할 경우, settings/pino_config.ini 의 설정에서 구글 클라우드가 잘 설정됬는지 확인 부탁드립니다. "
   ]
  },
  {
   "cell_type": "markdown",
   "id": "instrumental-european",
   "metadata": {
    "pycharm": {
     "name": "#%% md\n"
    }
   },
   "source": [
    "## 2. 피노봇 메인루프 \n",
    "\n",
    "\n",
    "피노봇의 메인 루프문입니다. \n",
    "\n",
    "while 문을 반복하면서 \n",
    "\n",
    "1. 피노봇 상태 업데이트 ( 센서 및 시리얼통신 ) \n",
    "\n",
    "\n",
    "2. 초음파 센서가 물체를 감지한경우 \n",
    "\n",
    "    2.1 음성 스트리밍을 시작합니다 ( 피노봇이 유저의 목소리를 듣기 시작합니다. ) \n",
    "    \n",
    "    2.2 다이얼로그 플로우로부터 응답을 받아서 재생합니다. \n",
    "    \n",
    "\n",
    "3. 시리얼 통신으로 메세지를 수신한경우 \n",
    "    \n",
    "    3.1 수신한 메세지를 다이얼로그 플로우로 송신합니다. \n",
    "    \n",
    "    3.2 다이얼로그 플로우로부터 응답을 받아서 재생합니다. \n"
   ]
  },
  {
   "cell_type": "code",
   "execution_count": null,
   "outputs": [],
   "source": [
    "    while True:\n",
    "        \n",
    "        # 1. 피노봇 센서 및 통신 상태 업데이트\n",
    "        bot.update()\n",
    "\n",
    "        # 2.1 초음파 센서가 물체를 감지한경우 \n",
    "        if bot.state == pinobot.PinoState.SENSOR_ON:\n",
    "\n",
    "            # 2.2 음성 스트리밍을 시작합니다 ( 피노봇이 유저의 목소리를 듣기 시작합니다. )\n",
    "            response = bot.listen()\n",
    "\n",
    "            # 음성 인식에 성공한경우 \n",
    "            if response is not None:\n",
    "                bot.hardware.write(text=\"음성인식 완료!\")\n",
    "                bot.start_say(response)\n",
    "                bot.start_act(response)\n",
    "                bot.wait_say_and_act()      # wait until say and act\n",
    "                print(response.stt_result,\"  |  \", response.intent_name,response.intent_response)\n",
    "                bot.return_idle()           # return to idle state\n",
    "\n",
    "            # 음성 인식에 실패한경우 \n",
    "            else :\n",
    "                bot.hardware.write(text=\"음성인식 실패 ㅠㅠ\")\n",
    "                time.sleep(3)\n",
    "                bot.return_idle()\n",
    "\n",
    "        # 3. 시리얼 통신으로 메세지를 수신한경우\n",
    "        elif bot.state == pinobot.PinoState.UART_ON:\n",
    "\n",
    "            # 3.1 수신한 메세지를 다이얼로그 플로우로 송신합니다.\n",
    "            response = bot.call_uart_event()\n",
    "\n",
    "            # 응답 수신 성공 \n",
    "            if response is not None:\n",
    "                bot.hardware.write(text = \"메세지 확인!\")\n",
    "                bot.start_act(response)\n",
    "                bot.start_say(response)\n",
    "                bot.wait_say_and_act()      # wait until say and act\n",
    "                print(response.stt_result, \"  |  \", response.intent_name, response.intent_response)\n",
    "                bot.return_idle()           # return to idle state\n",
    "\n",
    "            # 응답 수신 실패 \n",
    "            else:\n",
    "                bot.hardware.write(text=\"메세지 잘못보냄 ㅠㅠ\")\n",
    "                time.sleep(0.5)\n",
    "\n",
    "        time.sleep(0.05) # sleep for 50ms to reduce cpu use"
   ],
   "metadata": {
    "collapsed": false,
    "pycharm": {
     "name": "#%%\n"
    }
   }
  },
  {
   "cell_type": "code",
   "execution_count": null,
   "outputs": [],
   "source": [],
   "metadata": {
    "collapsed": false,
    "pycharm": {
     "name": "#%%\n"
    }
   }
  },
  {
   "cell_type": "code",
   "execution_count": 2,
   "id": "level-teach",
   "metadata": {},
   "outputs": [
    {
     "name": "stderr",
     "output_type": "stream",
     "text": [
      "[INFO] (2021-03-24 12:27:11,853 : pinobot.py:175) > listen\n"
     ]
    },
    {
     "name": "stdout",
     "output_type": "stream",
     "text": [
      "get Response....done! \n",
      "안뇽   |   Default Fallback Intent 뭐래\n"
     ]
    },
    {
     "ename": "KeyboardInterrupt",
     "evalue": "",
     "output_type": "error",
     "traceback": [
      "\u001B[0;31m---------------------------------------------------------------------------\u001B[0m",
      "\u001B[0;31mKeyboardInterrupt\u001B[0m                         Traceback (most recent call last)",
      "\u001B[0;32m<ipython-input-2-0c348e328c10>\u001B[0m in \u001B[0;36m<module>\u001B[0;34m\u001B[0m\n\u001B[1;32m     45\u001B[0m             \u001B[0mtime\u001B[0m\u001B[0;34m.\u001B[0m\u001B[0msleep\u001B[0m\u001B[0;34m(\u001B[0m\u001B[0;36m0.5\u001B[0m\u001B[0;34m)\u001B[0m\u001B[0;34m\u001B[0m\u001B[0;34m\u001B[0m\u001B[0m\n\u001B[1;32m     46\u001B[0m \u001B[0;34m\u001B[0m\u001B[0m\n\u001B[0;32m---> 47\u001B[0;31m     \u001B[0mtime\u001B[0m\u001B[0;34m.\u001B[0m\u001B[0msleep\u001B[0m\u001B[0;34m(\u001B[0m\u001B[0;36m0.05\u001B[0m\u001B[0;34m)\u001B[0m \u001B[0;31m# sleep for 50ms to reduce cpu use\u001B[0m\u001B[0;34m\u001B[0m\u001B[0;34m\u001B[0m\u001B[0m\n\u001B[0m",
      "\u001B[0;31mKeyboardInterrupt\u001B[0m: "
     ]
    }
   ],
   "source": []
  },
  {
   "cell_type": "code",
   "execution_count": null,
   "id": "stylish-saying",
   "metadata": {},
   "outputs": [],
   "source": []
  }
 ],
 "metadata": {
  "kernelspec": {
   "display_name": "Python 3",
   "language": "python",
   "name": "python3"
  },
  "language_info": {
   "codemirror_mode": {
    "name": "ipython",
    "version": 3
   },
   "file_extension": ".py",
   "mimetype": "text/x-python",
   "name": "python",
   "nbconvert_exporter": "python",
   "pygments_lexer": "ipython3",
   "version": "3.7.3"
  }
 },
 "nbformat": 4,
 "nbformat_minor": 5
}