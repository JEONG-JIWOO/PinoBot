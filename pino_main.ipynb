{
 "cells": [
  {
   "cell_type": "code",
   "execution_count": 1,
   "id": "independent-problem",
   "metadata": {},
   "outputs": [
    {
     "name": "stderr",
     "output_type": "stream",
     "text": [
      "[INFO] (2021-03-22 07:51:12,121 : pinobot.py:106) > [PinoBot] Start Boot\n",
      "[INFO] (2021-03-22 07:51:12,126 : pino_boot_loader.py:53) > pino_boot_loader.py: start boot\n",
      "[INFO] (2021-03-22 07:51:12,134 : pino_boot_loader.py:143) > pino_boot_loader.py: config.. Complete\n"
     ]
    },
    {
     "name": "stdout",
     "output_type": "stream",
     "text": [
      "     @@@@@@@@@@@@@@@@@@@@@@@@@@@@@@@@@@@@@@@@@@@@@@@@@@@@@@@@@@@@@@@      \n",
      "     @@@@@@@@@@@@@@@@@@@@@@@@@@@@@@@@@@@@@@@@@@@@@@@@@@@@@@@@@@@@@@@      \n",
      "     @@@@@@@@@@@@@@@@@@@@@@@@@@@@@@@@@@@@@@@@@@@@@@@@@@@@@@@@@@@@@@@      \n",
      "     @@@@@@@@@@@@@@@@@@@@@@@@@@@@@@--@@@@@@@@@@@@@@@@@@@@@@@@@@@@@@@      \n",
      "     @@@@@@@@@@@@@@@@@@@@@@@@@@@@ ---:@@@@@@@@@@@@@@@@@@@@@@@@@@@@@@      \n",
      "     @@@@@@@@@@@@@@@@@@@@@@@@@@@----~::@@@@@@@@@@@@@@@@@@@@@@@@@@@@@      \n",
      "     @@@@@@@@@@@@@@@@@@@@@@@@@@,--,,-~:@@@@@@@@@@@@@@@@@@@@@@@@@@@@@      \n",
      "     @@@@@@@@@@@@@@@@@@@@@@@@@--,,,.,~:@@@@@::---@@@@@@@@@@@@@@@@@@@      \n",
      "     @@@@@@@@@@@@@@@@@@@@@@@@@--,...,~:@@@@:~~---@@@@@@@@@@@@@@@@@@@      \n",
      "     @@@@@@@@@@@@@@@@@@@@@@@@----,,,,~:@@@:~-----@@@@@@@@@@@@@@@@@@@      \n",
      "     @@@@@@@@@@@@@@@@@@@@@@@------,,,~:@@@:~,,,---@@@@@@@@@@@@@@@@@@      \n",
      "     @@@@@@@@@@@@@@@@@@@@@@@-----,---~~@@:~-.,,,--@@@@@@@@@@@@@@@@@@      \n",
      "     @@@@@@@@@@@@@@@@@@@@@@----,...,,,,..~-~-,,,--@@@@@@@@@@@@@@@@@@      \n",
      "     @@@@@@@@@@@@@@@@@@@@@@---,...........--~,,---@@@@@@@@@@@@@@@@@@      \n",
      "     @@@@@@@@@@@@@@@@  ....---.............-~-,---@@@@@@@@@@@@@@@@@@      \n",
      "     @@@@@@@@@@@@@@@@,,....~-,.....~!~.......,----@@@@@@@@@@@@@@@@@@      \n",
      "     @@@@@@@@@@@@@@@@--,,,.@-......:$:.~-... ..--- @@@@@@@@@@@@@@@@@      \n",
      "     @@@@@@@@@@@@@@@..---,,:@.......,..;~......---@@@@@@@@@@@@@@@@@@      \n",
      "     @@@@@@@@@@@@@@-,.@@--~--.   . ,---,.......---@@@@@@@@@@@@@@@@@@      \n",
      "     @@@@@@@@@@@@@@--. ::~----.   .,---,......,---@@@@@@@@@@@@@@@@@@      \n",
      "     @@@@@@@@@@@@@@--...,~,..--....,---,......--- @@@@@@@@@@@@@@@@@@      \n",
      "     @@@@@@@@@@@@@@@-----,...,. .  ,---,..,--...@@@@@@@@@@@@@@@@@@@@      \n",
      "     @@@@@@@@@@@@@@@@@@:~----,..-.........,..@,. @@@@@@@@@@@@@@@@@@@      \n",
      "     @@@@@@@@@@@@@@@@@@@@---,...,-,.... ..-.,:-..,@@@@@@@@@@@@@@@@@@      \n",
      "     @@@@@@@@@@@@@@@@@@@@@--,...,,.....,-~~,~:-...@@@@@@@@@@@@@@@@@@      \n",
      "     @@@@@@@@@@@@@@@@@@@@@@@@...,. ,-. .,,~:::-...@@@@@@@@@@@@@@@@@@      \n",
      "     @@@@@@@@@@@@@@@@@@@@@@@@@@-.  :$:  .,,~---...@@@@@@@@@@@@@@@@@@      \n",
      "     @@@@@@@@@@@@@@@@@@@@@@@@@@@   ~!~  ...,----@@@@@@@@@@@@@@@@@@@@      \n",
      "     @@@@@@@@@@@@@@@@@@@@@@@@@@@..     ....,----@@@@@@@@@@@@@@@@@@@@      \n",
      "     @@@@@@@@@@@@@@@@@@@@@@@@@@;-, ,~, ,,..,---@@@@@@@@@@@@@@@@@@@@@      \n",
      "     @@@@@@@@@@@@@@@@@@@@@@@@@@--, :$: ,-..,--@@@@@@@@@@@@@@@@@@@@@@      \n",
      "     @@@@@@@@@@@@@@@@@@@@@@@@@@--,.-:-.,--@@@@@@@@@@@@@@@@@@@@@@@@@@      \n",
      "     @@@@@@@@@@@@@@@@@@@@@@@@@,,--,...,,,,,@@@@@@@@@@@@@@@@@@@@@@@@@      \n",
      "     @@@@@@@@@@@@@@@@@@@@@@@@@,,---,,,,,,,,@@@@@@@@@@@@@@@@@@@@@@@@@      \n",
      "     @@@@@@@@@@@@@@@@@@@@@@@@@,,,--,,,,,,,,@@@@@@@@@@@@@@@@@@@@@@@@@      \n",
      "     @@@@@@@@@@@@@@@@@@@@@@@@...............@@@@@@@@@@@@@@@@@@@@@@@@      \n",
      "     @@@@@@@@@@@@@@@@@@@@@@@@...         ...@@@@@@@@@@@@@@@@@@@@@@@@      \n",
      "     @@@@@@@@@@@@@@@@@@@@@@@@...         ...@@@@@@@@@@@@@@@@@@@@@@@@      \n",
      "     @@@@@@@@@@@@@@@@@@@@@@@@ ..         ...@@@@@@@@@@@@@@@@@@@@@@@@      \n",
      "     @@@@@@@@@@@@@@@@@@@@@@@@@@@@@@@@@@@@@@@@@@@@@@@@@@@@@@@@@@@@@@@      \n",
      "     @@@@@@@@@@@@@@@@@@@@@@@@@@@@@@@@@@@@@@@@@@@@@@@@@@@@@@@@@@@@@@@      \n",
      "     @@@@@@@@@@@@@@@@@@@@@@@@@@@@@@@@@@@@@@@@@@@@@@@@@@@@@@@@@@@@@@@      \n",
      "   _   _        _  _         ______  _               ______         _     \n",
      "  | | | |      | || |        | ___ \\(_)              | ___ \\       | |    \n",
      "  | |_| |  ___ | || |  ___   | |_/ / _  _ __    ___  | |_/ /  ___  | |_   \n",
      "  |  _  | / _ \\| || | / _ \\  |  __/ | || '_ \\  / _ \\ | ___ \\ / _ \\ | __|  \n",
      "  | | | ||  __/| || || (_) | | |    | || | | || (_) || |_/ /| (_) || |_   \n",
      "  \\_| |_/ \\___||_||_| \\___/  \\_|    |_||_| |_| \\___/ \\____/  \\___/  \\__|  \n",
      "\n",
      "==========================================================================\n",
      "  Launch PinoBot Manager...\n",
      "==========================================================================\n",
      "\n"
     ]
    },
    {
     "name": "stderr",
     "output_type": "stream",
     "text": [
      "[INFO] (2021-03-22 07:51:12,470 : v1.py:147) > hardware state : {'I2C': True, 'OLED': True, 'SERVO': True, 'RGB_LED': True, 'SENSOR': True, 'UART': True}\n",
      "[INFO] (2021-03-22 07:51:17,628 : pino_boot_loader.py:148) > pino_boot_loader.py: hardware.. Complete\n",
      "[INFO] (2021-03-22 07:51:18,015 : pino_boot_loader.py:354) > pino_boot_loader.py: internet not connected!\n",
      "[INFO] (2021-03-22 07:51:18,020 : pino_boot_loader.py:159) > pino_boot_loader.py: internet.. Complete\n",
      "[INFO] (2021-03-22 07:51:21,596 : pino_dialogflow.py:167) > pino_dialogflow.py: sound card index is : 2\n",
      "[INFO] (2021-03-22 07:51:21,713 : pino_dialogflow.py:359) > pino_dialogflow.py: Start Open Session\n",
      "[INFO] (2021-03-22 07:51:21,796 : pino_dialogflow.py:374) > pino_dialogflow.py: Open New Session, SID [squarebot01-yauqxoMon Mar 22 07:51:21 2021]\n",
      "[INFO] (2021-03-22 07:51:22,991 : pinobot.py:113) > [PinoBot] Boot Done..\n"
     ]
    }
   ],
   "source": [
    "from modules import pinobot\n",
    "import time\n",
    "\n",
    "if __name__ == \"__main__\":\n",
    "    bot  = pinobot.PinoBot()\n",
    "    bot.hardware.write(text=\"대기중..\")"
   ]
  },
  {
   "cell_type": "code",
   "execution_count": null,
   "id": "level-teach",
   "metadata": {},
   "outputs": [
    {
     "name": "stderr",
     "output_type": "stream",
     "text": [
      "[INFO] (2021-03-22 07:51:27,910 : pinobot.py:175) > listen\n"
     ]
    },
    {
     "name": "stdout",
     "output_type": "stream",
     "text": [
      "get Response....done! \n",
      "안녕   |   [PinoExample] 1. 간단 대화문 주인양반\n"
     ]
    }
   ],
   "source": [
    "    while True:\n",
    "        bot.update()\n",
    "\n",
    "        # case 1, sensor on\n",
    "        if bot.state == pinobot.PinoState.SENSOR_ON:\n",
    "\n",
    "            # start listen\n",
    "            response = bot.listen()\n",
    "\n",
    "            # listen success,\n",
    "            if response is not None:\n",
    "                bot.hardware.write(text=\"음성인식 완료!\")\n",
    "                bot.start_say(response)\n",
    "                bot.start_act(response)\n",
    "                bot.wait_say_and_act()      # wait until say and act\n",
    "                print(response.stt_result,\"  |  \", response.intent_name,response.intent_response)\n",
    "                bot.return_idle()           # return to idle state\n",
    "\n",
    "            # listen failed\n",
    "            else :\n",
    "                bot.hardware.write(text=\"음성인식 실패 ㅠㅠ\")\n",
    "                time.sleep(3)\n",
    "                bot.return_idle()\n",
    "\n",
    "        # case 2, uart[serial] communication on\n",
    "        elif bot.state == pinobot.PinoState.UART_ON:\n",
    "\n",
    "            # Get event from dialogflow\n",
    "            response = bot.call_uart_event()\n",
    "\n",
    "            # success,\n",
    "            if response is not None:\n",
    "                bot.hardware.write(text = \"메세지 확인!\")\n",
    "                bot.start_act(response)\n",
    "                bot.start_say(response)\n",
    "                bot.wait_say_and_act()      # wait until say and act\n",
    "                print(response.stt_result, \"  |  \", response.intent_name, response.intent_response)\n",
    "                bot.return_idle()           # return to idle state\n",
    "\n",
    "            # failed\n",
    "            else:\n",
    "                bot.hardware.write(text=\"메세지 잘못보냄 ㅠㅠ\")\n",
    "                time.sleep(0.5)\n",
    "\n",
    "        time.sleep(0.05) # sleep for 50ms to reduce cpu use"
   ]
  },
  {
   "cell_type": "code",
   "execution_count": null,
   "id": "egyptian-telling",
   "metadata": {},
   "outputs": [],
   "source": []
  },
  {
   "cell_type": "code",
   "execution_count": null,
   "id": "noted-charge",
   "metadata": {},
   "outputs": [],
   "source": []
  }
 ],
 "metadata": {
  "kernelspec": {
   "display_name": "Python 3",
   "language": "python",
   "name": "python3"
  },
  "language_info": {
   "codemirror_mode": {
    "name": "ipython",
    "version": 3
   },
   "file_extension": ".py",
   "mimetype": "text/x-python",
   "name": "python",
   "nbconvert_exporter": "python",
   "pygments_lexer": "ipython3",
   "version": "3.7.3"
  }
 },
 "nbformat": 4,
 "nbformat_minor": 5
}
