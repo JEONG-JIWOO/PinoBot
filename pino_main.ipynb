{
 "cells": [
  {
   "cell_type": "markdown",
   "id": "continent-margin",
   "metadata": {},
   "source": [
    "# 피노봇 메인코드 \n",
    "\n",
    "피노봇을 실행하기위한 메인 주피터 노트북 코드입니다. "
   ]
  },
  {
   "cell_type": "markdown",
   "id": "based-practice",
   "metadata": {},
   "source": [
    "## 1. 피노봇 부팅 \n",
    "\n",
    "피노봇을 부팅하고 다이얼로그플로우 서버에 연결하는 코드입니다. \n",
    "\n",
    "부팅이 완료되면 OLED 에 \"대기중\" 메세지가 표시됩니다. "
   ]
  },
  {
   "cell_type": "code",
   "execution_count": null,
   "id": "independent-problem",
   "metadata": {},
   "outputs": [],
   "source": [
    "from modules import pinobot\n",
    "import time\n",
    "\n",
    "if __name__ == \"__main__\":\n",
    "    bot  = pinobot.PinoBot()\n",
    "    bot.hardware.write(text=\"대기중..\")"
   ]
  },
  {
   "cell_type": "markdown",
   "id": "instrumental-european",
   "metadata": {},
   "source": [
    "## 2. 피노봇 메인루프 \n",
    "\n",
    "\n",
    "피노봇의 메인 루프문입니다. \n",
    "\n",
    "while 문을 반복하면서 \n",
    "\n",
    "1. 피노봇 상태 업데이트 ( 센서 및 시리얼통신 ) \n",
    "\n",
    "\n",
    "2. 초음파 센서가 물체를 감지한경우 \n",
    "\n",
    "    2.1 음성 스트리밍을 시작합니다 ( 피노봇이 유저의 목소리를 듣기 시작합니다. ) \n",
    "    \n",
    "    2.2 다이얼로그 플로우로부터 응답을 받아서 재생합니다. \n",
    "    \n",
    "\n",
    "3. 시리얼 통신으로 메세지를 수신한경우 \n",
    "    \n",
    "    3.1 수신한 메세지를 다이얼로그 플로우로 송신합니다. \n",
    "    \n",
    "    3.2 다이얼로그 플로우로부터 응답을 받아서 재생합니다. \n"
   ]
  },
  {
   "cell_type": "code",
   "execution_count": null,
   "id": "level-teach",
   "metadata": {},
   "outputs": [],
   "source": [
    "    while True:\n",
    "        \n",
    "        # 1. 피노봇 센서 및 통신 상태 업데이트\n",
    "        bot.update()\n",
    "\n",
    "        # 2.1 초음파 센서가 물체를 감지한경우 \n",
    "        if bot.state == pinobot.PinoState.SENSOR_ON:\n",
    "\n",
    "            # 2.2 음성 스트리밍을 시작합니다 ( 피노봇이 유저의 목소리를 듣기 시작합니다. )\n",
    "            response = bot.listen()\n",
    "\n",
    "            # 음성 인식에 성공한경우 \n",
    "            if response is not None:\n",
    "                bot.hardware.write(text=\"음성인식 완료!\")\n",
    "                bot.start_say(response)\n",
    "                bot.start_act(response)\n",
    "                bot.wait_say_and_act()      # wait until say and act\n",
    "                print(response.stt_result,\"  |  \", response.intent_name,response.intent_response)\n",
    "                bot.return_idle()           # return to idle state\n",
    "\n",
    "            # 음성 인식에 실패한경우 \n",
    "            else :\n",
    "                bot.hardware.write(text=\"음성인식 실패 ㅠㅠ\")\n",
    "                time.sleep(3)\n",
    "                bot.return_idle()\n",
    "\n",
    "        # 3. 시리얼 통신으로 메세지를 수신한경우\n",
    "        elif bot.state == pinobot.PinoState.UART_ON:\n",
    "\n",
    "            # 3.1 수신한 메세지를 다이얼로그 플로우로 송신합니다.\n",
    "            response = bot.call_uart_event()\n",
    "\n",
    "            # 응답 수신 성공 \n",
    "            if response is not None:\n",
    "                bot.hardware.write(text = \"메세지 확인!\")\n",
    "                bot.start_act(response)\n",
    "                bot.start_say(response)\n",
    "                bot.wait_say_and_act()      # wait until say and act\n",
    "                print(response.stt_result, \"  |  \", response.intent_name, response.intent_response)\n",
    "                bot.return_idle()           # return to idle state\n",
    "\n",
    "            # 응답 수신 실패 \n",
    "            else:\n",
    "                bot.hardware.write(text=\"메세지 잘못보냄 ㅠㅠ\")\n",
    "                time.sleep(0.5)\n",
    "\n",
    "        time.sleep(0.05) # sleep for 50ms to reduce cpu use"
   ]
  }
 ],
 "metadata": {
  "kernelspec": {
   "display_name": "Python 3",
   "language": "python",
   "name": "python3"
  },
  "language_info": {
   "codemirror_mode": {
    "name": "ipython",
    "version": 3
   },
   "file_extension": ".py",
   "mimetype": "text/x-python",
   "name": "python",
   "nbconvert_exporter": "python",
   "pygments_lexer": "ipython3",
   "version": "3.7.3"
  }
 },
 "nbformat": 4,
 "nbformat_minor": 5
}
